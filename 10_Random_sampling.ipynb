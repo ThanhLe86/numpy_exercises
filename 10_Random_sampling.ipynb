{
 "cells": [
  {
   "cell_type": "markdown",
   "metadata": {},
   "source": [
    "# Random Sampling"
   ]
  },
  {
   "cell_type": "code",
   "execution_count": 1,
   "metadata": {
    "collapsed": true
   },
   "outputs": [],
   "source": [
    "import numpy as np"
   ]
  },
  {
   "cell_type": "code",
   "execution_count": 3,
   "metadata": {
    "collapsed": false
   },
   "outputs": [
    {
     "data": {
      "text/plain": [
       "'1.11.2'"
      ]
     },
     "execution_count": 3,
     "metadata": {},
     "output_type": "execute_result"
    }
   ],
   "source": [
    "np.__version__"
   ]
  },
  {
   "cell_type": "code",
   "execution_count": 5,
   "metadata": {
    "collapsed": false
   },
   "outputs": [],
   "source": [
    "__author__ = 'kyubyong. longinglove@nate.com'"
   ]
  },
  {
   "cell_type": "markdown",
   "metadata": {},
   "source": [
    "## Simple random data"
   ]
  },
  {
   "cell_type": "markdown",
   "metadata": {},
   "source": [
    "Q1. Create an array of shape (3, 2) and populate it with random samples from a uniform distribution over [0, 1)."
   ]
  },
  {
   "cell_type": "code",
   "execution_count": 9,
   "metadata": {
    "collapsed": false
   },
   "outputs": [
    {
     "name": "stdout",
     "output_type": "stream",
     "text": [
      "[[0.5991794  0.00915874]\n",
      " [0.76432705 0.39819123]\n",
      " [0.47534634 0.28018092]]\n"
     ]
    }
   ],
   "source": [
    "resArray = np.random.uniform(0, 1, (3, 2))\n",
    "print(resArray)"
   ]
  },
  {
   "cell_type": "markdown",
   "metadata": {},
   "source": [
    "Q2. Create an array of shape (1000, 1000) and populate it with random samples from a standard normal distribution. And verify that the mean and standard deviation is close enough to 0 and 1 repectively."
   ]
  },
  {
   "cell_type": "code",
   "execution_count": 5,
   "metadata": {
    "collapsed": false
   },
   "outputs": [
    {
     "name": "stdout",
     "output_type": "stream",
     "text": [
      "0.0014760467963285662\n",
      "0.9990745913386525\n"
     ]
    }
   ],
   "source": [
    "resArray = np.random.normal(0, 1, (1000, 1000))\n",
    "#verify the means\n",
    "print(np.mean(resArray))\n",
    "#verify the standard distribution\n",
    "print(np.std(resArray))"
   ]
  },
  {
   "cell_type": "markdown",
   "metadata": {},
   "source": [
    "Q3. Create an array of shape (3, 2) and populate it with random integers ranging from 0 to 3 (inclusive) from a discrete uniform distribution."
   ]
  },
  {
   "cell_type": "code",
   "execution_count": 43,
   "metadata": {
    "collapsed": false
   },
   "outputs": [
    {
     "name": "stdout",
     "output_type": "stream",
     "text": [
      "[[1 2]\n",
      " [1 0]\n",
      " [0 2]]\n"
     ]
    }
   ],
   "source": [
    "resArray = np.random.uniform(0, 3.5, (3, 2))\n",
    "resArray = resArray.astype(int)\n",
    "print(resArray)"
   ]
  },
  {
   "cell_type": "markdown",
   "metadata": {},
   "source": [
    "Q4. Extract 1 elements from x randomly such that each of them would be associated with probabilities .3, .5, .2. Then print the result 10 times."
   ]
  },
  {
   "cell_type": "code",
   "execution_count": 48,
   "metadata": {
    "collapsed": false
   },
   "outputs": [
    {
     "name": "stdout",
     "output_type": "stream",
     "text": [
      "5 out of 10\n",
      "2 out of 10\n",
      "5 out of 10\n",
      "5 out of 10\n",
      "2 out of 10\n",
      "2 out of 10\n",
      "3 out of 10\n",
      "5 out of 10\n",
      "3 out of 10\n",
      "2 out of 10\n"
     ]
    }
   ],
   "source": [
    "x = ['3 out of 10', '5 out of 10', '2 out of 10']\n",
    "for index in range(10):\n",
    "    res = np.random.choice(x, p=[0.3, 0.5, 0.2])\n",
    "    print(res)\n"
   ]
  },
  {
   "cell_type": "markdown",
   "metadata": {},
   "source": [
    "Q5. Extract 3 different integers from 0 to 9 randomly with the same probabilities."
   ]
  },
  {
   "cell_type": "code",
   "execution_count": 50,
   "metadata": {
    "collapsed": false
   },
   "outputs": [
    {
     "name": "stdout",
     "output_type": "stream",
     "text": [
      "[7 6 8]\n"
     ]
    }
   ],
   "source": [
    "resArray = np.random.choice(10, 3, replace=False)\n",
    "print(resArray)"
   ]
  },
  {
   "cell_type": "markdown",
   "metadata": {},
   "source": [
    "## Permutations"
   ]
  },
  {
   "cell_type": "markdown",
   "metadata": {},
   "source": [
    "Q6. Shuffle numbers between 0 and 9 (inclusive)."
   ]
  },
  {
   "cell_type": "code",
   "execution_count": 59,
   "metadata": {
    "collapsed": false
   },
   "outputs": [
    {
     "name": "stdout",
     "output_type": "stream",
     "text": [
      "[8 9 7 1 0 3 6 2 5 4]\n"
     ]
    }
   ],
   "source": [
    "newArray = np.arange(10)\n",
    "np.random.shuffle(newArray)\n",
    "print(newArray)"
   ]
  },
  {
   "cell_type": "code",
   "execution_count": 63,
   "metadata": {
    "collapsed": false
   },
   "outputs": [
    {
     "name": "stdout",
     "output_type": "stream",
     "text": [
      "[0 7 1 3 9 4 2 5 6 8]\n"
     ]
    }
   ],
   "source": [
    "# Or\n",
    "resArray = np.random.permutation(10)\n",
    "print(resArray)\n"
   ]
  },
  {
   "cell_type": "markdown",
   "metadata": {},
   "source": [
    "## Random generator"
   ]
  },
  {
   "cell_type": "markdown",
   "metadata": {},
   "source": [
    "Q7. Assign number 10 to the seed of the random generator so that you can get the same value next time."
   ]
  },
  {
   "cell_type": "code",
   "execution_count": 67,
   "metadata": {
    "collapsed": true
   },
   "outputs": [
    {
     "name": "stdout",
     "output_type": "stream",
     "text": [
      "[5 1 2]\n",
      "[1 2 9]\n",
      "[1 9 7]\n",
      "[5 4 1]\n",
      "[5 7 9]\n",
      "[2 9 5]\n",
      "[2 4 7]\n",
      "[6 4 7]\n",
      "[2 5 3]\n",
      "[7 8 9]\n"
     ]
    }
   ],
   "source": [
    "np.random.seed(10)\n",
    "for index in range(10):\n",
    "    print(np.random.choice(np.arange(1, 10), 3))"
   ]
  }
 ],
 "metadata": {
  "kernelspec": {
   "display_name": "Python 3",
   "language": "python",
   "name": "python3"
  },
  "language_info": {
   "codemirror_mode": {
    "name": "ipython",
    "version": 3
   },
   "file_extension": ".py",
   "mimetype": "text/x-python",
   "name": "python",
   "nbconvert_exporter": "python",
   "pygments_lexer": "ipython3",
   "version": "3.10.8"
  }
 },
 "nbformat": 4,
 "nbformat_minor": 0
}
