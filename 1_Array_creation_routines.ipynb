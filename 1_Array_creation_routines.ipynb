{
  "cells": [
    {
      "cell_type": "markdown",
      "metadata": {
        "id": "view-in-github",
        "colab_type": "text"
      },
      "source": [
        "<a href=\"https://colab.research.google.com/github/ThanhLe86/numpy_exercises/blob/master/1_Array_creation_routines.ipynb\" target=\"_parent\"><img src=\"https://colab.research.google.com/assets/colab-badge.svg\" alt=\"Open In Colab\"/></a>"
      ]
    },
    {
      "cell_type": "markdown",
      "metadata": {
        "id": "xDL1BEYigQEo"
      },
      "source": [
        "# Array creation routines"
      ]
    },
    {
      "cell_type": "markdown",
      "metadata": {
        "id": "iJMTI-WggQEp"
      },
      "source": [
        "## Ones and zeros"
      ]
    },
    {
      "cell_type": "code",
      "execution_count": 2,
      "metadata": {
        "collapsed": true,
        "id": "HoAnZ0ZvgQEp"
      },
      "outputs": [],
      "source": [
        "import numpy as np"
      ]
    },
    {
      "cell_type": "markdown",
      "metadata": {
        "id": "gK2uT6dsgQEq"
      },
      "source": [
        "Create a new array of 2*2 integers, without initializing entries."
      ]
    },
    {
      "cell_type": "code",
      "execution_count": 88,
      "metadata": {
        "id": "vJjj853lgQEq",
        "outputId": "bdff9801-022f-4c4f-9388-16d4b42f41f5",
        "colab": {
          "base_uri": "https://localhost:8080/"
        }
      },
      "outputs": [
        {
          "output_type": "stream",
          "name": "stdout",
          "text": [
            "[[1 1]\n",
            " [1 1]]\n"
          ]
        }
      ],
      "source": [
        "arr = np.empty([2, 2], dtype=int)\n",
        "print(arr)"
      ]
    },
    {
      "cell_type": "markdown",
      "metadata": {
        "id": "SLbG88gvgQEq"
      },
      "source": [
        "Let X = np.array([1,2,3], [4,5,6], np.int32).\n",
        "Create a new array with the same shape and type as X."
      ]
    },
    {
      "cell_type": "code",
      "execution_count": 93,
      "metadata": {
        "id": "S3Qf0ZNPgQEq",
        "outputId": "8aac671d-a66e-4abd-f86c-dd1e8e4b88aa",
        "colab": {
          "base_uri": "https://localhost:8080/"
        }
      },
      "outputs": [
        {
          "output_type": "stream",
          "name": "stdout",
          "text": [
            "[[1 2 3]\n",
            " [4 5 6]] \n",
            "\n",
            "[[1 2 3]\n",
            " [4 5 6]] \n",
            "\n",
            "The shape of X:  (2, 3)\n",
            "The shape of newX:  (2, 3)\n",
            "The type of X:  int32\n",
            "The type of newX:  int32\n"
          ]
        }
      ],
      "source": [
        "X = np.array([[1,2,3], [4,5,6]], np.int32)\n",
        "newX = np.empty_like(X)\n",
        "print(X, \"\\n\")\n",
        "print(newX, \"\\n\")\n",
        "print(\"The shape of X: \", X.shape)\n",
        "print(\"The shape of newX: \", newX.shape)\n",
        "print(\"The type of X: \", X.dtype)\n",
        "print(\"The type of newX: \", newX.dtype)"
      ]
    },
    {
      "cell_type": "markdown",
      "metadata": {
        "id": "vGvjcoOugQEq"
      },
      "source": [
        "Create a 3-D array with ones on the diagonal and zeros elsewhere."
      ]
    },
    {
      "cell_type": "code",
      "execution_count": 95,
      "metadata": {
        "id": "W28ZE_tfgQEr",
        "outputId": "acd0561f-d87c-40c6-ee49-8680451c79f0",
        "colab": {
          "base_uri": "https://localhost:8080/"
        }
      },
      "outputs": [
        {
          "output_type": "stream",
          "name": "stdout",
          "text": [
            "[[1 0 0]\n",
            " [0 1 0]\n",
            " [0 0 1]]\n"
          ]
        }
      ],
      "source": [
        "newArray = np.eye(3, dtype=int)\n",
        "print(newArray)"
      ]
    },
    {
      "cell_type": "markdown",
      "metadata": {
        "id": "RMgqZlmygQEr"
      },
      "source": [
        "Create a new array of 3*2 float numbers, filled with ones."
      ]
    },
    {
      "cell_type": "code",
      "execution_count": 96,
      "metadata": {
        "id": "jUeC4lkNgQEr",
        "outputId": "c52e77f1-e5e7-4bbc-96f5-63ee3d90706c",
        "colab": {
          "base_uri": "https://localhost:8080/"
        }
      },
      "outputs": [
        {
          "output_type": "stream",
          "name": "stdout",
          "text": [
            "[[1. 1.]\n",
            " [1. 1.]\n",
            " [1. 1.]]\n"
          ]
        }
      ],
      "source": [
        "newArray = np.ones((3,2), dtype=float)\n",
        "print(newArray)"
      ]
    },
    {
      "cell_type": "markdown",
      "metadata": {
        "id": "DnS40kIOgQEr"
      },
      "source": [
        "Let x = np.arange(4, dtype=np.int64). Create an array of ones with the same shape and type as X."
      ]
    },
    {
      "cell_type": "code",
      "execution_count": 98,
      "metadata": {
        "id": "xF8WdfF7gQEr",
        "outputId": "08505705-484a-49d4-886a-7a1dacc3729e",
        "colab": {
          "base_uri": "https://localhost:8080/"
        }
      },
      "outputs": [
        {
          "output_type": "stream",
          "name": "stdout",
          "text": [
            "[0 1 2 3]\n",
            "[1 1 1 1]\n"
          ]
        }
      ],
      "source": [
        "x = np.arange(4, dtype=np.int64)\n",
        "newX = np.ones_like(x)\n",
        "print(x)\n",
        "print(newX)"
      ]
    },
    {
      "cell_type": "markdown",
      "metadata": {
        "id": "aKc3seX1gQEr"
      },
      "source": [
        "Create a new array of 3*2 float numbers, filled with zeros."
      ]
    },
    {
      "cell_type": "code",
      "execution_count": 99,
      "metadata": {
        "id": "GS0idme3gQEr",
        "outputId": "024318e9-e5c7-4f1d-a84f-63e7f8b95884",
        "colab": {
          "base_uri": "https://localhost:8080/"
        }
      },
      "outputs": [
        {
          "output_type": "stream",
          "name": "stdout",
          "text": [
            "[[0. 0.]\n",
            " [0. 0.]\n",
            " [0. 0.]]\n"
          ]
        }
      ],
      "source": [
        "newArray = np.zeros((3,2), dtype = float)\n",
        "print(newArray)"
      ]
    },
    {
      "cell_type": "markdown",
      "metadata": {
        "id": "PHLXszIpgQEs"
      },
      "source": [
        "Let x = np.arange(4, dtype=np.int64). Create an array of zeros with the same shape and type as X."
      ]
    },
    {
      "cell_type": "code",
      "execution_count": 101,
      "metadata": {
        "id": "lOiZ-0vZgQEs",
        "outputId": "0da2905f-6f10-4013-bb55-d7a2ad5df6ea",
        "colab": {
          "base_uri": "https://localhost:8080/"
        }
      },
      "outputs": [
        {
          "output_type": "stream",
          "name": "stdout",
          "text": [
            "[0 1 2 3]\n",
            "[0 0 0 0]\n"
          ]
        }
      ],
      "source": [
        "x = np.arange(4, dtype=np.int64)\n",
        "newX = np.zeros_like(x)\n",
        "print(x)\n",
        "print(newX)"
      ]
    },
    {
      "cell_type": "markdown",
      "metadata": {
        "id": "hGEoMjwZgQEs"
      },
      "source": [
        "Create a new array of 2*5 uints, filled with 6."
      ]
    },
    {
      "cell_type": "code",
      "execution_count": 102,
      "metadata": {
        "id": "MLWh6QtrgQEs",
        "outputId": "de87e930-5267-4423-eedf-9edbf16bacab",
        "colab": {
          "base_uri": "https://localhost:8080/"
        }
      },
      "outputs": [
        {
          "output_type": "stream",
          "name": "stdout",
          "text": [
            "[[6 6 6 6 6]\n",
            " [6 6 6 6 6]]\n",
            "uint32\n"
          ]
        }
      ],
      "source": [
        "newArray = np.full((2,5), 6, dtype = np.uint32)\n",
        "print(newArray)\n",
        "print(newArray.dtype)"
      ]
    },
    {
      "cell_type": "markdown",
      "metadata": {
        "id": "IZL2yfaGgQEs"
      },
      "source": [
        "Let x = np.arange(4, dtype=np.int64). Create an array of 6's with the same shape and type as X."
      ]
    },
    {
      "cell_type": "code",
      "execution_count": 104,
      "metadata": {
        "id": "Nx2QDDcVgQEs",
        "outputId": "0ddabf80-0b66-4618-fa29-db0a853d0a7b",
        "colab": {
          "base_uri": "https://localhost:8080/"
        }
      },
      "outputs": [
        {
          "output_type": "stream",
          "name": "stdout",
          "text": [
            "[0 1 2 3]\n",
            "[6 6 6 6]\n"
          ]
        }
      ],
      "source": [
        "x = np.arange(4, dtype=np.int64)\n",
        "newX = np.full_like(x, 6)\n",
        "print(x)\n",
        "print(newX)"
      ]
    },
    {
      "cell_type": "markdown",
      "metadata": {
        "id": "hLzRW_jYgQEs"
      },
      "source": [
        "## From existing data"
      ]
    },
    {
      "cell_type": "markdown",
      "metadata": {
        "id": "CHwVFXhNgQEs"
      },
      "source": [
        "Create an array of [1, 2, 3]."
      ]
    },
    {
      "cell_type": "code",
      "execution_count": 105,
      "metadata": {
        "id": "ikT6JafDgQEs",
        "outputId": "a023849e-0590-475a-96da-d11b89896c5b",
        "colab": {
          "base_uri": "https://localhost:8080/"
        }
      },
      "outputs": [
        {
          "output_type": "stream",
          "name": "stdout",
          "text": [
            "[1 2 3]\n"
          ]
        }
      ],
      "source": [
        "newArray = np.array([1, 2, 3])\n",
        "print(newArray)"
      ]
    },
    {
      "cell_type": "markdown",
      "metadata": {
        "id": "894i71DtgQEt"
      },
      "source": [
        "Let x = [1, 2]. Convert it into an array."
      ]
    },
    {
      "cell_type": "code",
      "execution_count": 106,
      "metadata": {
        "id": "0MQ3kN6SgQEt",
        "outputId": "f107ab32-f9bf-47f8-b57a-18c9fd7c13d4",
        "colab": {
          "base_uri": "https://localhost:8080/"
        }
      },
      "outputs": [
        {
          "output_type": "stream",
          "name": "stdout",
          "text": [
            "[1 2]\n"
          ]
        }
      ],
      "source": [
        "x = [1,2]\n",
        "newX = np.asarray(x)\n",
        "print(newX)"
      ]
    },
    {
      "cell_type": "markdown",
      "metadata": {
        "id": "wJlrcuCMgQEt"
      },
      "source": [
        "Let X = np.array([[1, 2], [3, 4]]). Convert it into a matrix."
      ]
    },
    {
      "cell_type": "code",
      "execution_count": 107,
      "metadata": {
        "id": "mgxLOX_agQEt",
        "outputId": "18e6efee-8b54-45ea-acd2-a4905430986a",
        "colab": {
          "base_uri": "https://localhost:8080/"
        }
      },
      "outputs": [
        {
          "output_type": "stream",
          "name": "stdout",
          "text": [
            "[[1 2]\n",
            " [3 4]]\n"
          ]
        }
      ],
      "source": [
        "X = np.array([[1, 2], [3, 4]])\n",
        "newX = np.asmatrix(X)\n",
        "print(newX)"
      ]
    },
    {
      "cell_type": "markdown",
      "metadata": {
        "id": "Tb6TllEzgQEt"
      },
      "source": [
        "Let x = [1, 2]. Conver it into an array of `float`."
      ]
    },
    {
      "cell_type": "code",
      "execution_count": 108,
      "metadata": {
        "id": "gs5ZEAfLgQEt",
        "outputId": "cb2832b5-eb6f-44a8-b338-c9bfed83979f",
        "colab": {
          "base_uri": "https://localhost:8080/"
        }
      },
      "outputs": [
        {
          "output_type": "stream",
          "name": "stdout",
          "text": [
            "[1. 2.]\n"
          ]
        }
      ],
      "source": [
        "x = [1, 2]\n",
        "newx = np.asarray(x, dtype=float)\n",
        "print(newx)\n"
      ]
    },
    {
      "cell_type": "markdown",
      "metadata": {
        "id": "5lUoMcjdgQEt"
      },
      "source": [
        "Let x = np.array([30]). Convert it into scalar of its single element, i.e. 30."
      ]
    },
    {
      "cell_type": "code",
      "execution_count": 109,
      "metadata": {
        "id": "e1xZJJv9gQEt",
        "outputId": "d586c325-8a46-475e-9099-69f86e5db6ef",
        "colab": {
          "base_uri": "https://localhost:8080/"
        }
      },
      "outputs": [
        {
          "output_type": "stream",
          "name": "stdout",
          "text": [
            "30\n"
          ]
        }
      ],
      "source": [
        "x = np.array([30])\n",
        "X_scalar = x.item()\n",
        "print(X_scalar)"
      ]
    },
    {
      "cell_type": "markdown",
      "metadata": {
        "id": "ez43PtEQgQEt"
      },
      "source": [
        "Let x = np.array([1, 2, 3]). Create a array copy of x, which has a different id from x."
      ]
    },
    {
      "cell_type": "code",
      "execution_count": 115,
      "metadata": {
        "id": "ivQFibu7gQEt",
        "outputId": "9e47cd91-eb80-4794-ab04-0009b16486cc",
        "colab": {
          "base_uri": "https://localhost:8080/"
        }
      },
      "outputs": [
        {
          "output_type": "stream",
          "name": "stdout",
          "text": [
            "x:  [1 2 3]\n",
            "newX:  [1 2 3]\n",
            "id of x:  134391588237552\n",
            "id of newX:  134391588214160\n"
          ]
        }
      ],
      "source": [
        "x = np.array([1, 2, 3])\n",
        "newX = np.copy(x)\n",
        "print(\"x: \", x)\n",
        "print(\"newX: \", newX)\n",
        "print(\"id of x: \", id(x))\n",
        "print(\"id of newX: \", id(newX))\n"
      ]
    },
    {
      "cell_type": "markdown",
      "metadata": {
        "id": "kDOnAKDTgQEu"
      },
      "source": [
        "## Numerical ranges"
      ]
    },
    {
      "cell_type": "markdown",
      "metadata": {
        "id": "57bqzp3vgQEu"
      },
      "source": [
        "Create an array of 2, 4, 6, 8, ..., 100."
      ]
    },
    {
      "cell_type": "code",
      "execution_count": 119,
      "metadata": {
        "id": "_zCIDEehgQEu",
        "outputId": "914946c3-2765-42be-87cd-b9e36de9a566",
        "colab": {
          "base_uri": "https://localhost:8080/"
        }
      },
      "outputs": [
        {
          "output_type": "stream",
          "name": "stdout",
          "text": [
            "[  2   4   6   8  10  12  14  16  18  20  22  24  26  28  30  32  34  36\n",
            "  38  40  42  44  46  48  50  52  54  56  58  60  62  64  66  68  70  72\n",
            "  74  76  78  80  82  84  86  88  90  92  94  96  98 100]\n"
          ]
        }
      ],
      "source": [
        "iterator = (x * 2 for x in range(1, 51))\n",
        "evenArray = np.fromiter(iterator, int)\n",
        "print(evenArray)"
      ]
    },
    {
      "cell_type": "markdown",
      "metadata": {
        "id": "r5by6rBCgQEu"
      },
      "source": [
        "Create a 1-D array of 50 evenly spaced elements between 3. and 10., inclusive."
      ]
    },
    {
      "cell_type": "code",
      "execution_count": 122,
      "metadata": {
        "id": "pl9nnRHygQEu",
        "outputId": "0400ebf6-5ed1-4330-b920-467098d44135",
        "colab": {
          "base_uri": "https://localhost:8080/"
        }
      },
      "outputs": [
        {
          "output_type": "stream",
          "name": "stdout",
          "text": [
            "[3.   3.14 3.28 3.42 3.56 3.7  3.84 3.98 4.12 4.26 4.4  4.54 4.68 4.82\n",
            " 4.96 5.1  5.24 5.38 5.52 5.66 5.8  5.94 6.08 6.22 6.36 6.5  6.64 6.78\n",
            " 6.92 7.06 7.2  7.34 7.48 7.62 7.76 7.9  8.04 8.18 8.32 8.46 8.6  8.74\n",
            " 8.88 9.02 9.16 9.3  9.44 9.58 9.72 9.86]\n",
            "50\n"
          ]
        }
      ],
      "source": [
        "newArray = np.arange(3, 10, 7/50)\n",
        "print(newArray)\n",
        "print(len(newArray))\n"
      ]
    },
    {
      "cell_type": "markdown",
      "metadata": {
        "id": "ywdacZwngQEu"
      },
      "source": [
        "Create a 1-D array of 50 element spaced evenly on a log scale between 3. and 10., exclusive."
      ]
    },
    {
      "cell_type": "code",
      "execution_count": 124,
      "metadata": {
        "id": "tSgJ4ePSgQEu",
        "outputId": "ff5668cb-1d35-4bd4-bba4-f4fad6d3b374",
        "colab": {
          "base_uri": "https://localhost:8080/"
        }
      },
      "outputs": [
        {
          "output_type": "stream",
          "name": "stdout",
          "text": [
            "[1.00000000e+03 1.38038426e+03 1.90546072e+03 2.63026799e+03\n",
            " 3.63078055e+03 5.01187234e+03 6.91830971e+03 9.54992586e+03\n",
            " 1.31825674e+04 1.81970086e+04 2.51188643e+04 3.46736850e+04\n",
            " 4.78630092e+04 6.60693448e+04 9.12010839e+04 1.25892541e+05\n",
            " 1.73780083e+05 2.39883292e+05 3.31131121e+05 4.57088190e+05\n",
            " 6.30957344e+05 8.70963590e+05 1.20226443e+06 1.65958691e+06\n",
            " 2.29086765e+06 3.16227766e+06 4.36515832e+06 6.02559586e+06\n",
            " 8.31763771e+06 1.14815362e+07 1.58489319e+07 2.18776162e+07\n",
            " 3.01995172e+07 4.16869383e+07 5.75439937e+07 7.94328235e+07\n",
            " 1.09647820e+08 1.51356125e+08 2.08929613e+08 2.88403150e+08\n",
            " 3.98107171e+08 5.49540874e+08 7.58577575e+08 1.04712855e+09\n",
            " 1.44543977e+09 1.99526231e+09 2.75422870e+09 3.80189396e+09\n",
            " 5.24807460e+09 7.24435960e+09]\n"
          ]
        }
      ],
      "source": [
        "newArray = np.logspace(3, 10, 50, endpoint=False)\n",
        "print(newArray)"
      ]
    },
    {
      "cell_type": "markdown",
      "metadata": {
        "id": "WiN_5g89gQEu"
      },
      "source": [
        "## Building matrices"
      ]
    },
    {
      "cell_type": "markdown",
      "metadata": {
        "id": "2vt0KozqgQEv"
      },
      "source": [
        "Let X = np.array([[ 0,  1,  2,  3],\n",
        "                  [ 4,  5,  6,  7],\n",
        "                 [ 8,  9, 10, 11]]).\n",
        "                 Get the diagonal of X, that is, [0, 5, 10]."
      ]
    },
    {
      "cell_type": "code",
      "execution_count": null,
      "metadata": {
        "id": "5GJwKt8MgQEv",
        "outputId": "be4443fe-3616-4fd5-c4f1-e0d1106e380b"
      },
      "outputs": [
        {
          "data": {
            "text/plain": [
              "array([ 0,  5, 10])"
            ]
          },
          "execution_count": 93,
          "metadata": {},
          "output_type": "execute_result"
        }
      ],
      "source": [
        "X = np.array([[ 0, 1, 2, 3], [ 4, 5, 6, 7], [ 8, 9, 10, 11]])\n"
      ]
    },
    {
      "cell_type": "markdown",
      "metadata": {
        "id": "y6GAICRjgQEv"
      },
      "source": [
        "Create a 2-D array whose diagonal equals [1, 2, 3, 4] and 0's elsewhere."
      ]
    },
    {
      "cell_type": "code",
      "execution_count": null,
      "metadata": {
        "id": "6neOAqFkgQEv",
        "outputId": "270bc729-4181-4055-da1d-58ce5e8905b5"
      },
      "outputs": [
        {
          "data": {
            "text/plain": [
              "array([[1, 0, 0, 0],\n",
              "       [0, 2, 0, 0],\n",
              "       [0, 0, 3, 0],\n",
              "       [0, 0, 0, 4]])"
            ]
          },
          "execution_count": 95,
          "metadata": {},
          "output_type": "execute_result"
        }
      ],
      "source": []
    },
    {
      "cell_type": "markdown",
      "metadata": {
        "id": "UKzFHiL7gQEv"
      },
      "source": [
        "Create an array which looks like below.\n",
        "array([[ 0.,  0.,  0.,  0.,  0.],\n",
        "       [ 1.,  0.,  0.,  0.,  0.],\n",
        "       [ 1.,  1.,  0.,  0.,  0.]])"
      ]
    },
    {
      "cell_type": "code",
      "execution_count": null,
      "metadata": {
        "id": "TQtdbyUwgQEv",
        "outputId": "2aec3533-8572-4de5-f0c7-805b57f09d73"
      },
      "outputs": [
        {
          "data": {
            "text/plain": [
              "array([[ 0.,  0.,  0.,  0.,  0.],\n",
              "       [ 1.,  0.,  0.,  0.,  0.],\n",
              "       [ 1.,  1.,  0.,  0.,  0.]])"
            ]
          },
          "execution_count": 97,
          "metadata": {},
          "output_type": "execute_result"
        }
      ],
      "source": []
    },
    {
      "cell_type": "markdown",
      "metadata": {
        "id": "gl2BFWHVgQEv"
      },
      "source": [
        "Create an array which looks like below.\n",
        "array([[ 0,  0,  0],\n",
        "       [ 4,  0,  0],\n",
        "       [ 7,  8,  0],\n",
        "       [10, 11, 12]])"
      ]
    },
    {
      "cell_type": "code",
      "execution_count": null,
      "metadata": {
        "id": "Vf_hMvgGgQEv",
        "outputId": "5166a292-d7cc-4e03-f6d2-fcbd193c7515"
      },
      "outputs": [
        {
          "data": {
            "text/plain": [
              "array([[ 0,  0,  0],\n",
              "       [ 4,  0,  0],\n",
              "       [ 7,  8,  0],\n",
              "       [10, 11, 12]])"
            ]
          },
          "execution_count": 101,
          "metadata": {},
          "output_type": "execute_result"
        }
      ],
      "source": []
    },
    {
      "cell_type": "markdown",
      "metadata": {
        "id": "TuV9ANgUgQEv"
      },
      "source": [
        "Create an array which looks like below. array([[ 1,  2,  3],\n",
        "       [ 4,  5,  6],\n",
        "       [ 0,  8,  9],\n",
        "       [ 0,  0, 12]])"
      ]
    },
    {
      "cell_type": "code",
      "execution_count": null,
      "metadata": {
        "id": "HglMcE-XgQEv",
        "outputId": "e08be4d7-873f-4aea-c51d-e559be8a8559"
      },
      "outputs": [
        {
          "data": {
            "text/plain": [
              "array([[ 1,  2,  3],\n",
              "       [ 4,  5,  6],\n",
              "       [ 0,  8,  9],\n",
              "       [ 0,  0, 12]])"
            ]
          },
          "execution_count": 102,
          "metadata": {},
          "output_type": "execute_result"
        }
      ],
      "source": []
    }
  ],
  "metadata": {
    "kernelspec": {
      "display_name": "Python 2",
      "language": "python",
      "name": "python2"
    },
    "language_info": {
      "codemirror_mode": {
        "name": "ipython",
        "version": 2
      },
      "file_extension": ".py",
      "mimetype": "text/x-python",
      "name": "python",
      "nbconvert_exporter": "python",
      "pygments_lexer": "ipython2",
      "version": "2.7.6"
    },
    "colab": {
      "provenance": [],
      "include_colab_link": true
    }
  },
  "nbformat": 4,
  "nbformat_minor": 0
}